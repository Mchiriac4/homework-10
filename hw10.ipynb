{
 "cells": [
  {
   "cell_type": "code",
   "execution_count": 1,
   "id": "c16d9a10",
   "metadata": {},
   "outputs": [],
   "source": [
    "# Question 4\n",
    "# The r-squared value of 17.6% indicates that the model only explains a small portion of the variability, so there should be other factors. \n",
    "# However, there is a significant p-value for some coefficients, indicating that these predictors have a considerable impact. \n",
    "# This is because r-squared measures the model's explanatory power, and p-values represent the relevance of certain predictors. \n",
    "# Therefore, you can have a low r-squared value while having a significant p-value. "
   ]
  },
  {
   "cell_type": "code",
   "execution_count": 2,
   "id": "a4faf1f5",
   "metadata": {},
   "outputs": [],
   "source": [
    "# Question 7 \n",
    "# Each model version builds off the previous version, focused on improving the balance between complexity and generalization. \n",
    "# The changes made from model3 and model4 to model5 are to focus on continuous and categorical variables to improve the balance. \n",
    "# Next, from model5 to model6 the complexity is reduced, only focus on the most significant predictors. \n",
    "# Last, from model6to model7 complexity is added with a four-way interaction, trying to find the best balance. "
   ]
  },
  {
   "cell_type": "code",
   "execution_count": 3,
   "id": "32e57dcf",
   "metadata": {},
   "outputs": [],
   "source": [
    "# Question 9 \n",
    "# The illustration compares  model6 and model7 in terms of generalizability and interpretability. \n",
    "# The main goal is to determine if the added complexity of model7 significantly improves predictive performance over the simpler model6. "
   ]
  },
  {
   "cell_type": "code",
   "execution_count": null,
   "id": "aa436233",
   "metadata": {},
   "outputs": [],
   "source": [
    "# Chatbot summery \n",
    "# link: https://chatgpt.com/share/67367fbc-7604-8002-8d79-977eef736765\n",
    "# Data Prep: Splitting data for train-test sets and ensuring consistent sampling.\n",
    "# Model Spec & Fitting: Specifying linear forms and fitting models to training data.\n",
    "# Diagnostics: Reviewing model summaries to identify key predictors and potential issues.\n",
    "# Out-of-Sample Testing: Comparing in-sample vs. out-of-sample R-squared to check generalizability.\n",
    "# Iterative Train-Test Splits: Running multiple splits to observe stability and variability in performance.\n",
    "# Coefficient Testing: Testing predictors for statistical significance to refine model complexity.\n",
    "# Model Complexity: Comparing simpler (model6) and complex (model7) models, emphasizing interpretability.\n",
    "# Simulated Performance: Generating many in-sample vs. out-of-sample results to assess variability.\n",
    "# Sequential Generalizability: Testing model performance on sequential data (different generations) to evaluate real-world predictability."
   ]
  }
 ],
 "metadata": {
  "kernelspec": {
   "display_name": "Python 3 (ipykernel)",
   "language": "python",
   "name": "python3"
  },
  "language_info": {
   "codemirror_mode": {
    "name": "ipython",
    "version": 3
   },
   "file_extension": ".py",
   "mimetype": "text/x-python",
   "name": "python",
   "nbconvert_exporter": "python",
   "pygments_lexer": "ipython3",
   "version": "3.11.6"
  }
 },
 "nbformat": 4,
 "nbformat_minor": 5
}
